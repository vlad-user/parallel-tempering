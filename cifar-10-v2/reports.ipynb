{
 "cells": [
  {
   "cell_type": "code",
   "execution_count": 7,
   "metadata": {},
   "outputs": [],
   "source": [
    "import os\n",
    "import sys\n",
    "import numpy as np\n",
    "os.chdir('/home/deep09/project_vlad/parallel-tempering/')\n",
    "from simulator.summary_extractor import SummaryExtractor, SummaryReportGenerator\n",
    "import simulator.summary_extractor as summ_ext\n",
    "\n",
    "import matplotlib.pyplot as plt\n",
    "\n",
    "def calculate_mean_variance_of_min_err(summaries):\n",
    "    ses = [SummaryExtractor(f) for f in summaries]\n",
    "    min_errs = []\n",
    "    for se in ses:\n",
    "        results = []\n",
    "        for r in range(se.get_description()['n_replicas']):\n",
    "            x, y = se.get_summary('test_error', replica_id=r)\n",
    "            results.append(min(y))\n",
    "        min_errs.append(min(results))\n",
    "    return np.mean(min_errs), np.std(min_errs)\n"
   ]
  },
  {
   "cell_type": "code",
   "execution_count": null,
   "metadata": {},
   "outputs": [],
   "source": [
    "# CIFAR-10 DROPOUT\n",
    "\n"
   ]
  },
  {
   "cell_type": "code",
   "execution_count": 17,
   "metadata": {},
   "outputs": [
    {
     "name": "stdout",
     "output_type": "stream",
     "text": [
      "resnet22\n",
      "swaps\n",
      "(0.093266666, 0.0014613542)\n",
      "noswaps\n",
      "(0.0975, 0.0)\n",
      "resnet32\n",
      "resnet44\n",
      "swaps\n",
      "(0.07929999, 0.0)\n",
      "noswaps\n",
      "(0.082, 0.0)\n"
     ]
    },
    {
     "ename": "SystemExit",
     "evalue": "",
     "output_type": "error",
     "traceback": [
      "An exception has occurred, use %tb to see the full traceback.\n",
      "\u001b[0;31mSystemExit\u001b[0m\n"
     ]
    }
   ],
   "source": [
    "# RESNETS\n",
    "\n",
    "######################################### Resnet20\n",
    "print('resnet22')\n",
    "noswap = 'resnet20_cifar_0_45000_6_0.05_crossentropy_352_inf_0.1_182_128_learningratemomentum_0.1_0.005_None_v3' # nice\n",
    "swap1 = 'resnet20_cifar_0_45000_6_0.05_crossentropy_200_32000_0.1_182_128_learningratemomentum_0.1_0.005_None_v3' # nice\n",
    "swap2 = 'resnet20_cifar_0_45000_6_0.05_crossentropy_200_32000_0.1_182_128_learningratemomentum_0.1_0.005_None_v3_2' # nice\n",
    "swap3 = 'resnet20_cifar_0_45000_6_0.05_crossentropy_200_32000_0.1_182_128_learningratemomentum_0.1_0.005_None_v3' # nice\n",
    "print('swaps')\n",
    "files = [swap1, swap2, swap3]\n",
    "print(calculate_mean_variance_of_min_err(files))\n",
    "print('noswaps')\n",
    "files = [noswap]\n",
    "print(calculate_mean_variance_of_min_err(files))\n",
    "\n",
    "\n",
    "######################################### Resnet32\n",
    "print('resnet32')\n",
    "noswap = 'resnet32_cifar_0_45000_8_0.05_crossentropy_352_inf_0.1_182_128_learningratemomentum_0.1_0.005_None_v3' # nice\n",
    "swap = 'resnet32_cifar_0_45000_8_0.05_crossentropy_200_32000_0.1_182_128_learningratemomentum_0.1_0.005_None_v3' # nice\n",
    "\n",
    "\n",
    "\n",
    "######################################### Resnet44\n",
    "print('resnet44')\n",
    "noswap = 'resnet44_cifar_0_45000_8_0.05_crossentropy_352_inf_0.1_182_128_learningratemomentum_0.01_0.005_None_v3' \n",
    "swap1 = 'resnet44_cifar_0_45000_8_0.05_crossentropy_200_32000_0.1_182_128_learningratemomentum_0.01_0.005_None_v3' # nice\n",
    "\n",
    "\n",
    "\n",
    "\n",
    "files = [swap1]\n",
    "print('swaps')\n",
    "print(calculate_mean_variance_of_min_err(files))\n",
    "print('noswaps')\n",
    "files = [noswap]\n",
    "print(calculate_mean_variance_of_min_err(files))\n",
    "\n",
    "sys.exit()"
   ]
  },
  {
   "cell_type": "code",
   "execution_count": 19,
   "metadata": {},
   "outputs": [
    {
     "name": "stderr",
     "output_type": "stream",
     "text": [
      "/home/deep09/anaconda3/envs/tf12/lib/python3.6/site-packages/numpy/core/fromnumeric.py:3118: RuntimeWarning: Mean of empty slice.\n",
      "  out=out, **kwargs)\n",
      "/home/deep09/anaconda3/envs/tf12/lib/python3.6/site-packages/numpy/core/_methods.py:85: RuntimeWarning: invalid value encountered in double_scalars\n",
      "  ret = ret.dtype.type(ret / rcount)\n",
      "No handles with labels found to put in legend.\n",
      "No handles with labels found to put in legend.\n",
      "No handles with labels found to put in legend.\n",
      "No handles with labels found to put in legend.\n",
      "No handles with labels found to put in legend.\n",
      "No handles with labels found to put in legend.\n",
      "No handles with labels found to put in legend.\n",
      "No handles with labels found to put in legend.\n"
     ]
    },
    {
     "ename": "SystemExit",
     "evalue": "",
     "output_type": "error",
     "traceback": [
      "An exception has occurred, use %tb to see the full traceback.\n",
      "\u001b[0;31mSystemExit\u001b[0m\n"
     ]
    },
    {
     "name": "stderr",
     "output_type": "stream",
     "text": [
      "/home/deep09/anaconda3/envs/tf12/lib/python3.6/site-packages/IPython/core/interactiveshell.py:3304: UserWarning: To exit: use 'exit', 'quit', or Ctrl-D.\n",
      "  warn(\"To exit: use 'exit', 'quit', or Ctrl-D.\", stacklevel=1)\n"
     ]
    }
   ],
   "source": [
    "#resnet reports\n",
    "noswap = 'resnet44_cifar_0_45000_8_0.05_crossentropy_352_inf_0.1_182_128_learningratemomentum_0.01_0.005_None_v3'\n",
    "swap = 'resnet44_cifar_0_45000_8_0.02_crossentropy_200_32000_0.1_182_128_learningratemomentum_0.06_0.0005_None_v3'\n",
    "labels = ['Swaps', 'No Swaps']\n",
    "report_name = 'reports_all'\n",
    "names = [swap, noswap]\n",
    "rep_gen = SummaryReportGenerator(names,\n",
    "                                 labels,\n",
    "                                 report_name=report_name,\n",
    "                                 lower=100,\n",
    "                                 higher=200,\n",
    "                                 include_fnames=False,\n",
    "                                 ylim_err=(0.03, .12),\n",
    "                                 ylim_loss=(0., 3.),\n",
    "                                 epoch_range=(0, 182))\n",
    "rep_gen.generate_report()\n",
    "sys.exit()"
   ]
  },
  {
   "cell_type": "code",
   "execution_count": null,
   "metadata": {},
   "outputs": [],
   "source": []
  }
 ],
 "metadata": {
  "kernelspec": {
   "display_name": "Python 3",
   "language": "python",
   "name": "python3"
  },
  "language_info": {
   "codemirror_mode": {
    "name": "ipython",
    "version": 3
   },
   "file_extension": ".py",
   "mimetype": "text/x-python",
   "name": "python",
   "nbconvert_exporter": "python",
   "pygments_lexer": "ipython3",
   "version": "3.6.0"
  }
 },
 "nbformat": 4,
 "nbformat_minor": 2
}
